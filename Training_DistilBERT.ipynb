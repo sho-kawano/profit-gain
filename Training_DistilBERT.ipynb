{
  "nbformat": 4,
  "nbformat_minor": 0,
  "metadata": {
    "colab": {
      "provenance": [],
      "include_colab_link": true
    },
    "kernelspec": {
      "name": "python3",
      "display_name": "Python 3"
    },
    "accelerator": "GPU",
    "widgets": {
      "application/vnd.jupyter.widget-state+json": {
        "88e51f30595045b3b719bccd378b286e": {
          "model_module": "@jupyter-widgets/controls",
          "model_name": "HBoxModel",
          "state": {
            "_view_name": "HBoxView",
            "_dom_classes": [],
            "_model_name": "HBoxModel",
            "_view_module": "@jupyter-widgets/controls",
            "_model_module_version": "1.5.0",
            "_view_count": null,
            "_view_module_version": "1.5.0",
            "box_style": "",
            "layout": "IPY_MODEL_bc68fd3db35d42baaa1f8c28899d571d",
            "_model_module": "@jupyter-widgets/controls",
            "children": [
              "IPY_MODEL_d5e3e27b95eb46c68ea25ae0073e95ff",
              "IPY_MODEL_d85c4ac2c20d43f7b6fbe8a800012199"
            ]
          },
          "model_module_version": "1.5.0"
        },
        "bc68fd3db35d42baaa1f8c28899d571d": {
          "model_module": "@jupyter-widgets/base",
          "model_name": "LayoutModel",
          "state": {
            "_view_name": "LayoutView",
            "grid_template_rows": null,
            "right": null,
            "justify_content": null,
            "_view_module": "@jupyter-widgets/base",
            "overflow": null,
            "_model_module_version": "1.2.0",
            "_view_count": null,
            "flex_flow": null,
            "width": null,
            "min_width": null,
            "border": null,
            "align_items": null,
            "bottom": null,
            "_model_module": "@jupyter-widgets/base",
            "top": null,
            "grid_column": null,
            "overflow_y": null,
            "overflow_x": null,
            "grid_auto_flow": null,
            "grid_area": null,
            "grid_template_columns": null,
            "flex": null,
            "_model_name": "LayoutModel",
            "justify_items": null,
            "grid_row": null,
            "max_height": null,
            "align_content": null,
            "visibility": null,
            "align_self": null,
            "height": null,
            "min_height": null,
            "padding": null,
            "grid_auto_rows": null,
            "grid_gap": null,
            "max_width": null,
            "order": null,
            "_view_module_version": "1.2.0",
            "grid_template_areas": null,
            "object_position": null,
            "object_fit": null,
            "grid_auto_columns": null,
            "margin": null,
            "display": null,
            "left": null
          },
          "model_module_version": "1.2.0"
        },
        "d5e3e27b95eb46c68ea25ae0073e95ff": {
          "model_module": "@jupyter-widgets/controls",
          "model_name": "FloatProgressModel",
          "state": {
            "_view_name": "ProgressView",
            "style": "IPY_MODEL_795cba95866a4703a36857f96931c321",
            "_dom_classes": [],
            "description": "Downloading: 100%",
            "_model_name": "FloatProgressModel",
            "bar_style": "success",
            "max": 442,
            "_view_module": "@jupyter-widgets/controls",
            "_model_module_version": "1.5.0",
            "value": 442,
            "_view_count": null,
            "_view_module_version": "1.5.0",
            "orientation": "horizontal",
            "min": 0,
            "description_tooltip": null,
            "_model_module": "@jupyter-widgets/controls",
            "layout": "IPY_MODEL_b400ae517afb464fb81bfaf2ae96c3e3"
          },
          "model_module_version": "1.5.0"
        },
        "d85c4ac2c20d43f7b6fbe8a800012199": {
          "model_module": "@jupyter-widgets/controls",
          "model_name": "HTMLModel",
          "state": {
            "_view_name": "HTMLView",
            "style": "IPY_MODEL_0a74b59840c04543935bb834abf3a105",
            "_dom_classes": [],
            "description": "",
            "_model_name": "HTMLModel",
            "placeholder": "​",
            "_view_module": "@jupyter-widgets/controls",
            "_model_module_version": "1.5.0",
            "value": " 442/442 [00:00&lt;00:00, 10.5kB/s]",
            "_view_count": null,
            "_view_module_version": "1.5.0",
            "description_tooltip": null,
            "_model_module": "@jupyter-widgets/controls",
            "layout": "IPY_MODEL_f05b8b1441f545a0801c0fce2a93f07d"
          },
          "model_module_version": "1.5.0"
        },
        "795cba95866a4703a36857f96931c321": {
          "model_module": "@jupyter-widgets/controls",
          "model_name": "ProgressStyleModel",
          "state": {
            "_view_name": "StyleView",
            "_model_name": "ProgressStyleModel",
            "description_width": "initial",
            "_view_module": "@jupyter-widgets/base",
            "_model_module_version": "1.5.0",
            "_view_count": null,
            "_view_module_version": "1.2.0",
            "bar_color": null,
            "_model_module": "@jupyter-widgets/controls"
          },
          "model_module_version": "1.5.0"
        },
        "b400ae517afb464fb81bfaf2ae96c3e3": {
          "model_module": "@jupyter-widgets/base",
          "model_name": "LayoutModel",
          "state": {
            "_view_name": "LayoutView",
            "grid_template_rows": null,
            "right": null,
            "justify_content": null,
            "_view_module": "@jupyter-widgets/base",
            "overflow": null,
            "_model_module_version": "1.2.0",
            "_view_count": null,
            "flex_flow": null,
            "width": null,
            "min_width": null,
            "border": null,
            "align_items": null,
            "bottom": null,
            "_model_module": "@jupyter-widgets/base",
            "top": null,
            "grid_column": null,
            "overflow_y": null,
            "overflow_x": null,
            "grid_auto_flow": null,
            "grid_area": null,
            "grid_template_columns": null,
            "flex": null,
            "_model_name": "LayoutModel",
            "justify_items": null,
            "grid_row": null,
            "max_height": null,
            "align_content": null,
            "visibility": null,
            "align_self": null,
            "height": null,
            "min_height": null,
            "padding": null,
            "grid_auto_rows": null,
            "grid_gap": null,
            "max_width": null,
            "order": null,
            "_view_module_version": "1.2.0",
            "grid_template_areas": null,
            "object_position": null,
            "object_fit": null,
            "grid_auto_columns": null,
            "margin": null,
            "display": null,
            "left": null
          },
          "model_module_version": "1.2.0"
        },
        "0a74b59840c04543935bb834abf3a105": {
          "model_module": "@jupyter-widgets/controls",
          "model_name": "DescriptionStyleModel",
          "state": {
            "_view_name": "StyleView",
            "_model_name": "DescriptionStyleModel",
            "description_width": "",
            "_view_module": "@jupyter-widgets/base",
            "_model_module_version": "1.5.0",
            "_view_count": null,
            "_view_module_version": "1.2.0",
            "_model_module": "@jupyter-widgets/controls"
          },
          "model_module_version": "1.5.0"
        },
        "f05b8b1441f545a0801c0fce2a93f07d": {
          "model_module": "@jupyter-widgets/base",
          "model_name": "LayoutModel",
          "state": {
            "_view_name": "LayoutView",
            "grid_template_rows": null,
            "right": null,
            "justify_content": null,
            "_view_module": "@jupyter-widgets/base",
            "overflow": null,
            "_model_module_version": "1.2.0",
            "_view_count": null,
            "flex_flow": null,
            "width": null,
            "min_width": null,
            "border": null,
            "align_items": null,
            "bottom": null,
            "_model_module": "@jupyter-widgets/base",
            "top": null,
            "grid_column": null,
            "overflow_y": null,
            "overflow_x": null,
            "grid_auto_flow": null,
            "grid_area": null,
            "grid_template_columns": null,
            "flex": null,
            "_model_name": "LayoutModel",
            "justify_items": null,
            "grid_row": null,
            "max_height": null,
            "align_content": null,
            "visibility": null,
            "align_self": null,
            "height": null,
            "min_height": null,
            "padding": null,
            "grid_auto_rows": null,
            "grid_gap": null,
            "max_width": null,
            "order": null,
            "_view_module_version": "1.2.0",
            "grid_template_areas": null,
            "object_position": null,
            "object_fit": null,
            "grid_auto_columns": null,
            "margin": null,
            "display": null,
            "left": null
          },
          "model_module_version": "1.2.0"
        },
        "fde831de8e114222a12a1a18e2e6dbb2": {
          "model_module": "@jupyter-widgets/controls",
          "model_name": "HBoxModel",
          "state": {
            "_view_name": "HBoxView",
            "_dom_classes": [],
            "_model_name": "HBoxModel",
            "_view_module": "@jupyter-widgets/controls",
            "_model_module_version": "1.5.0",
            "_view_count": null,
            "_view_module_version": "1.5.0",
            "box_style": "",
            "layout": "IPY_MODEL_fa3c73730a334faca4baecf77b526ef3",
            "_model_module": "@jupyter-widgets/controls",
            "children": [
              "IPY_MODEL_3e119024dac74ba98b9059e5b833aa67",
              "IPY_MODEL_d5cc6635d5b248cfbb5cf850021c8d71"
            ]
          },
          "model_module_version": "1.5.0"
        },
        "fa3c73730a334faca4baecf77b526ef3": {
          "model_module": "@jupyter-widgets/base",
          "model_name": "LayoutModel",
          "state": {
            "_view_name": "LayoutView",
            "grid_template_rows": null,
            "right": null,
            "justify_content": null,
            "_view_module": "@jupyter-widgets/base",
            "overflow": null,
            "_model_module_version": "1.2.0",
            "_view_count": null,
            "flex_flow": null,
            "width": null,
            "min_width": null,
            "border": null,
            "align_items": null,
            "bottom": null,
            "_model_module": "@jupyter-widgets/base",
            "top": null,
            "grid_column": null,
            "overflow_y": null,
            "overflow_x": null,
            "grid_auto_flow": null,
            "grid_area": null,
            "grid_template_columns": null,
            "flex": null,
            "_model_name": "LayoutModel",
            "justify_items": null,
            "grid_row": null,
            "max_height": null,
            "align_content": null,
            "visibility": null,
            "align_self": null,
            "height": null,
            "min_height": null,
            "padding": null,
            "grid_auto_rows": null,
            "grid_gap": null,
            "max_width": null,
            "order": null,
            "_view_module_version": "1.2.0",
            "grid_template_areas": null,
            "object_position": null,
            "object_fit": null,
            "grid_auto_columns": null,
            "margin": null,
            "display": null,
            "left": null
          },
          "model_module_version": "1.2.0"
        },
        "3e119024dac74ba98b9059e5b833aa67": {
          "model_module": "@jupyter-widgets/controls",
          "model_name": "FloatProgressModel",
          "state": {
            "_view_name": "ProgressView",
            "style": "IPY_MODEL_7935781433884754aef7cfe564a38886",
            "_dom_classes": [],
            "description": "Downloading: 100%",
            "_model_name": "FloatProgressModel",
            "bar_style": "success",
            "max": 231508,
            "_view_module": "@jupyter-widgets/controls",
            "_model_module_version": "1.5.0",
            "value": 231508,
            "_view_count": null,
            "_view_module_version": "1.5.0",
            "orientation": "horizontal",
            "min": 0,
            "description_tooltip": null,
            "_model_module": "@jupyter-widgets/controls",
            "layout": "IPY_MODEL_abe94cb3b714431c9818ef89618e65c1"
          },
          "model_module_version": "1.5.0"
        },
        "d5cc6635d5b248cfbb5cf850021c8d71": {
          "model_module": "@jupyter-widgets/controls",
          "model_name": "HTMLModel",
          "state": {
            "_view_name": "HTMLView",
            "style": "IPY_MODEL_5b865a9c34824a50a54e9601b2b8b581",
            "_dom_classes": [],
            "description": "",
            "_model_name": "HTMLModel",
            "placeholder": "​",
            "_view_module": "@jupyter-widgets/controls",
            "_model_module_version": "1.5.0",
            "value": " 232k/232k [00:00&lt;00:00, 303kB/s]",
            "_view_count": null,
            "_view_module_version": "1.5.0",
            "description_tooltip": null,
            "_model_module": "@jupyter-widgets/controls",
            "layout": "IPY_MODEL_2f9d908114404b4b8f76f58423817e71"
          },
          "model_module_version": "1.5.0"
        },
        "7935781433884754aef7cfe564a38886": {
          "model_module": "@jupyter-widgets/controls",
          "model_name": "ProgressStyleModel",
          "state": {
            "_view_name": "StyleView",
            "_model_name": "ProgressStyleModel",
            "description_width": "initial",
            "_view_module": "@jupyter-widgets/base",
            "_model_module_version": "1.5.0",
            "_view_count": null,
            "_view_module_version": "1.2.0",
            "bar_color": null,
            "_model_module": "@jupyter-widgets/controls"
          },
          "model_module_version": "1.5.0"
        },
        "abe94cb3b714431c9818ef89618e65c1": {
          "model_module": "@jupyter-widgets/base",
          "model_name": "LayoutModel",
          "state": {
            "_view_name": "LayoutView",
            "grid_template_rows": null,
            "right": null,
            "justify_content": null,
            "_view_module": "@jupyter-widgets/base",
            "overflow": null,
            "_model_module_version": "1.2.0",
            "_view_count": null,
            "flex_flow": null,
            "width": null,
            "min_width": null,
            "border": null,
            "align_items": null,
            "bottom": null,
            "_model_module": "@jupyter-widgets/base",
            "top": null,
            "grid_column": null,
            "overflow_y": null,
            "overflow_x": null,
            "grid_auto_flow": null,
            "grid_area": null,
            "grid_template_columns": null,
            "flex": null,
            "_model_name": "LayoutModel",
            "justify_items": null,
            "grid_row": null,
            "max_height": null,
            "align_content": null,
            "visibility": null,
            "align_self": null,
            "height": null,
            "min_height": null,
            "padding": null,
            "grid_auto_rows": null,
            "grid_gap": null,
            "max_width": null,
            "order": null,
            "_view_module_version": "1.2.0",
            "grid_template_areas": null,
            "object_position": null,
            "object_fit": null,
            "grid_auto_columns": null,
            "margin": null,
            "display": null,
            "left": null
          },
          "model_module_version": "1.2.0"
        },
        "5b865a9c34824a50a54e9601b2b8b581": {
          "model_module": "@jupyter-widgets/controls",
          "model_name": "DescriptionStyleModel",
          "state": {
            "_view_name": "StyleView",
            "_model_name": "DescriptionStyleModel",
            "description_width": "",
            "_view_module": "@jupyter-widgets/base",
            "_model_module_version": "1.5.0",
            "_view_count": null,
            "_view_module_version": "1.2.0",
            "_model_module": "@jupyter-widgets/controls"
          },
          "model_module_version": "1.5.0"
        },
        "2f9d908114404b4b8f76f58423817e71": {
          "model_module": "@jupyter-widgets/base",
          "model_name": "LayoutModel",
          "state": {
            "_view_name": "LayoutView",
            "grid_template_rows": null,
            "right": null,
            "justify_content": null,
            "_view_module": "@jupyter-widgets/base",
            "overflow": null,
            "_model_module_version": "1.2.0",
            "_view_count": null,
            "flex_flow": null,
            "width": null,
            "min_width": null,
            "border": null,
            "align_items": null,
            "bottom": null,
            "_model_module": "@jupyter-widgets/base",
            "top": null,
            "grid_column": null,
            "overflow_y": null,
            "overflow_x": null,
            "grid_auto_flow": null,
            "grid_area": null,
            "grid_template_columns": null,
            "flex": null,
            "_model_name": "LayoutModel",
            "justify_items": null,
            "grid_row": null,
            "max_height": null,
            "align_content": null,
            "visibility": null,
            "align_self": null,
            "height": null,
            "min_height": null,
            "padding": null,
            "grid_auto_rows": null,
            "grid_gap": null,
            "max_width": null,
            "order": null,
            "_view_module_version": "1.2.0",
            "grid_template_areas": null,
            "object_position": null,
            "object_fit": null,
            "grid_auto_columns": null,
            "margin": null,
            "display": null,
            "left": null
          },
          "model_module_version": "1.2.0"
        },
        "d88e8599533e47c59d1285b95524ac7a": {
          "model_module": "@jupyter-widgets/controls",
          "model_name": "HBoxModel",
          "state": {
            "_view_name": "HBoxView",
            "_dom_classes": [],
            "_model_name": "HBoxModel",
            "_view_module": "@jupyter-widgets/controls",
            "_model_module_version": "1.5.0",
            "_view_count": null,
            "_view_module_version": "1.5.0",
            "box_style": "",
            "layout": "IPY_MODEL_1fd1bc1841404de39f6e8d258900d656",
            "_model_module": "@jupyter-widgets/controls",
            "children": [
              "IPY_MODEL_320f2a60279249a1890ce4d56e03e234",
              "IPY_MODEL_8a0e8687a6ab46e29103260ce3158139"
            ]
          },
          "model_module_version": "1.5.0"
        },
        "1fd1bc1841404de39f6e8d258900d656": {
          "model_module": "@jupyter-widgets/base",
          "model_name": "LayoutModel",
          "state": {
            "_view_name": "LayoutView",
            "grid_template_rows": null,
            "right": null,
            "justify_content": null,
            "_view_module": "@jupyter-widgets/base",
            "overflow": null,
            "_model_module_version": "1.2.0",
            "_view_count": null,
            "flex_flow": null,
            "width": null,
            "min_width": null,
            "border": null,
            "align_items": null,
            "bottom": null,
            "_model_module": "@jupyter-widgets/base",
            "top": null,
            "grid_column": null,
            "overflow_y": null,
            "overflow_x": null,
            "grid_auto_flow": null,
            "grid_area": null,
            "grid_template_columns": null,
            "flex": null,
            "_model_name": "LayoutModel",
            "justify_items": null,
            "grid_row": null,
            "max_height": null,
            "align_content": null,
            "visibility": null,
            "align_self": null,
            "height": null,
            "min_height": null,
            "padding": null,
            "grid_auto_rows": null,
            "grid_gap": null,
            "max_width": null,
            "order": null,
            "_view_module_version": "1.2.0",
            "grid_template_areas": null,
            "object_position": null,
            "object_fit": null,
            "grid_auto_columns": null,
            "margin": null,
            "display": null,
            "left": null
          },
          "model_module_version": "1.2.0"
        },
        "320f2a60279249a1890ce4d56e03e234": {
          "model_module": "@jupyter-widgets/controls",
          "model_name": "FloatProgressModel",
          "state": {
            "_view_name": "ProgressView",
            "style": "IPY_MODEL_b881efe9523d404facbab7c5d5be0e26",
            "_dom_classes": [],
            "description": "Downloading: 100%",
            "_model_name": "FloatProgressModel",
            "bar_style": "success",
            "max": 363423424,
            "_view_module": "@jupyter-widgets/controls",
            "_model_module_version": "1.5.0",
            "value": 363423424,
            "_view_count": null,
            "_view_module_version": "1.5.0",
            "orientation": "horizontal",
            "min": 0,
            "description_tooltip": null,
            "_model_module": "@jupyter-widgets/controls",
            "layout": "IPY_MODEL_c5be60bae6c24af09563bf247d55fff7"
          },
          "model_module_version": "1.5.0"
        },
        "8a0e8687a6ab46e29103260ce3158139": {
          "model_module": "@jupyter-widgets/controls",
          "model_name": "HTMLModel",
          "state": {
            "_view_name": "HTMLView",
            "style": "IPY_MODEL_0e33dbd438004242b5ba0bc00a01029c",
            "_dom_classes": [],
            "description": "",
            "_model_name": "HTMLModel",
            "placeholder": "​",
            "_view_module": "@jupyter-widgets/controls",
            "_model_module_version": "1.5.0",
            "value": " 363M/363M [00:04&lt;00:00, 81.1MB/s]",
            "_view_count": null,
            "_view_module_version": "1.5.0",
            "description_tooltip": null,
            "_model_module": "@jupyter-widgets/controls",
            "layout": "IPY_MODEL_7b740ce4d4664e4a9bd2bdf39c1aa014"
          },
          "model_module_version": "1.5.0"
        },
        "b881efe9523d404facbab7c5d5be0e26": {
          "model_module": "@jupyter-widgets/controls",
          "model_name": "ProgressStyleModel",
          "state": {
            "_view_name": "StyleView",
            "_model_name": "ProgressStyleModel",
            "description_width": "initial",
            "_view_module": "@jupyter-widgets/base",
            "_model_module_version": "1.5.0",
            "_view_count": null,
            "_view_module_version": "1.2.0",
            "bar_color": null,
            "_model_module": "@jupyter-widgets/controls"
          },
          "model_module_version": "1.5.0"
        },
        "c5be60bae6c24af09563bf247d55fff7": {
          "model_module": "@jupyter-widgets/base",
          "model_name": "LayoutModel",
          "state": {
            "_view_name": "LayoutView",
            "grid_template_rows": null,
            "right": null,
            "justify_content": null,
            "_view_module": "@jupyter-widgets/base",
            "overflow": null,
            "_model_module_version": "1.2.0",
            "_view_count": null,
            "flex_flow": null,
            "width": null,
            "min_width": null,
            "border": null,
            "align_items": null,
            "bottom": null,
            "_model_module": "@jupyter-widgets/base",
            "top": null,
            "grid_column": null,
            "overflow_y": null,
            "overflow_x": null,
            "grid_auto_flow": null,
            "grid_area": null,
            "grid_template_columns": null,
            "flex": null,
            "_model_name": "LayoutModel",
            "justify_items": null,
            "grid_row": null,
            "max_height": null,
            "align_content": null,
            "visibility": null,
            "align_self": null,
            "height": null,
            "min_height": null,
            "padding": null,
            "grid_auto_rows": null,
            "grid_gap": null,
            "max_width": null,
            "order": null,
            "_view_module_version": "1.2.0",
            "grid_template_areas": null,
            "object_position": null,
            "object_fit": null,
            "grid_auto_columns": null,
            "margin": null,
            "display": null,
            "left": null
          },
          "model_module_version": "1.2.0"
        },
        "0e33dbd438004242b5ba0bc00a01029c": {
          "model_module": "@jupyter-widgets/controls",
          "model_name": "DescriptionStyleModel",
          "state": {
            "_view_name": "StyleView",
            "_model_name": "DescriptionStyleModel",
            "description_width": "",
            "_view_module": "@jupyter-widgets/base",
            "_model_module_version": "1.5.0",
            "_view_count": null,
            "_view_module_version": "1.2.0",
            "_model_module": "@jupyter-widgets/controls"
          },
          "model_module_version": "1.5.0"
        },
        "7b740ce4d4664e4a9bd2bdf39c1aa014": {
          "model_module": "@jupyter-widgets/base",
          "model_name": "LayoutModel",
          "state": {
            "_view_name": "LayoutView",
            "grid_template_rows": null,
            "right": null,
            "justify_content": null,
            "_view_module": "@jupyter-widgets/base",
            "overflow": null,
            "_model_module_version": "1.2.0",
            "_view_count": null,
            "flex_flow": null,
            "width": null,
            "min_width": null,
            "border": null,
            "align_items": null,
            "bottom": null,
            "_model_module": "@jupyter-widgets/base",
            "top": null,
            "grid_column": null,
            "overflow_y": null,
            "overflow_x": null,
            "grid_auto_flow": null,
            "grid_area": null,
            "grid_template_columns": null,
            "flex": null,
            "_model_name": "LayoutModel",
            "justify_items": null,
            "grid_row": null,
            "max_height": null,
            "align_content": null,
            "visibility": null,
            "align_self": null,
            "height": null,
            "min_height": null,
            "padding": null,
            "grid_auto_rows": null,
            "grid_gap": null,
            "max_width": null,
            "order": null,
            "_view_module_version": "1.2.0",
            "grid_template_areas": null,
            "object_position": null,
            "object_fit": null,
            "grid_auto_columns": null,
            "margin": null,
            "display": null,
            "left": null
          },
          "model_module_version": "1.2.0"
        }
      }
    }
  },
  "cells": [
    {
      "cell_type": "markdown",
      "metadata": {
        "id": "view-in-github",
        "colab_type": "text"
      },
      "source": [
        "<a href=\"https://colab.research.google.com/github/sho-kawano/profit-gain/blob/master/Training_DistilBERT.ipynb\" target=\"_parent\"><img src=\"https://colab.research.google.com/assets/colab-badge.svg\" alt=\"Open In Colab\"/></a>"
      ]
    },
    {
      "cell_type": "markdown",
      "metadata": {
        "id": "WzMrrqzAqHpL"
      },
      "source": [
        "# Training a Hugging Face Transformer\n",
        "Here I train and save a Hugging Face Transformer that classifies the 20 News Groups Data."
      ]
    },
    {
      "cell_type": "code",
      "metadata": {
        "id": "T5FS_QGOvTcW",
        "colab": {
          "base_uri": "https://localhost:8080/",
          "height": 357
        },
        "outputId": "969e3e2a-9177-44ca-a8fa-6377613a0136"
      },
      "source": [
        "# Check that we have a GPU\n",
        "!nvidia-smi"
      ],
      "execution_count": null,
      "outputs": [
        {
          "output_type": "stream",
          "text": [
            "Tue Sep 15 03:02:14 2020       \n",
            "+-----------------------------------------------------------------------------+\n",
            "| NVIDIA-SMI 450.66       Driver Version: 418.67       CUDA Version: 10.1     |\n",
            "|-------------------------------+----------------------+----------------------+\n",
            "| GPU  Name        Persistence-M| Bus-Id        Disp.A | Volatile Uncorr. ECC |\n",
            "| Fan  Temp  Perf  Pwr:Usage/Cap|         Memory-Usage | GPU-Util  Compute M. |\n",
            "|                               |                      |               MIG M. |\n",
            "|===============================+======================+======================|\n",
            "|   0  Tesla P100-PCIE...  Off  | 00000000:00:04.0 Off |                    0 |\n",
            "| N/A   37C    P0    26W / 250W |      0MiB / 16280MiB |      0%      Default |\n",
            "|                               |                      |                 ERR! |\n",
            "+-------------------------------+----------------------+----------------------+\n",
            "                                                                               \n",
            "+-----------------------------------------------------------------------------+\n",
            "| Processes:                                                                  |\n",
            "|  GPU   GI   CI        PID   Type   Process name                  GPU Memory |\n",
            "|        ID   ID                                                   Usage      |\n",
            "|=============================================================================|\n",
            "|  No running processes found                                                 |\n",
            "+-----------------------------------------------------------------------------+\n"
          ],
          "name": "stdout"
        }
      ]
    },
    {
      "cell_type": "code",
      "metadata": {
        "id": "4UwS3av1DGzz"
      },
      "source": [
        "!pip install ktrain"
      ],
      "execution_count": null,
      "outputs": []
    },
    {
      "cell_type": "code",
      "metadata": {
        "id": "nXnpXzgkMTW4",
        "colab": {
          "base_uri": "https://localhost:8080/",
          "height": 187
        },
        "outputId": "bb9272b9-2d42-4eba-97f2-7691b1971511"
      },
      "source": [
        "!pip install pympler"
      ],
      "execution_count": null,
      "outputs": [
        {
          "output_type": "stream",
          "text": [
            "Collecting pympler\n",
            "\u001b[?25l  Downloading https://files.pythonhosted.org/packages/26/75/d38ea74acc62acbd4609f3f02bb93f30342a7fb4246754f4e2becd616557/Pympler-0.8.tar.gz (175kB)\n",
            "\u001b[K     |████████████████████████████████| 184kB 2.8MB/s \n",
            "\u001b[?25hBuilding wheels for collected packages: pympler\n",
            "  Building wheel for pympler (setup.py) ... \u001b[?25l\u001b[?25hdone\n",
            "  Created wheel for pympler: filename=Pympler-0.8-cp36-none-any.whl size=164714 sha256=a6a71cadf9f60af071b24456cdfcadd0a8dfc46d0b030847fd2876e2d75d80a3\n",
            "  Stored in directory: /root/.cache/pip/wheels/6c/61/cc/4bdf1e8c8b1c04d8104322eb2508b6a21d4d3a4d1b44fdd510\n",
            "Successfully built pympler\n",
            "Installing collected packages: pympler\n",
            "Successfully installed pympler-0.8\n"
          ],
          "name": "stdout"
        }
      ]
    },
    {
      "cell_type": "markdown",
      "metadata": {
        "id": "YlE6JpNfDUT0"
      },
      "source": [
        "WARNING: You have to restart the session in order for the rest of the code to work"
      ]
    },
    {
      "cell_type": "markdown",
      "metadata": {
        "id": "5HxZVDcOh-Yi"
      },
      "source": [
        "# *Step 1:*  Load Data\n"
      ]
    },
    {
      "cell_type": "code",
      "metadata": {
        "id": "CJ8X7BseiRqJ",
        "colab": {
          "base_uri": "https://localhost:8080/",
          "height": 122
        },
        "outputId": "7677ff37-e0cd-4575-c2e4-caca9f2814be"
      },
      "source": [
        "from sklearn.datasets import fetch_20newsgroups\n",
        "\n",
        "mydata_train = fetch_20newsgroups(subset='train',\n",
        "                             remove = ('headers', 'footers', 'quotes'),\n",
        "                             shuffle=True, random_state=42)\n",
        "mydata_test = fetch_20newsgroups(subset='test',\n",
        "                            remove = ('headers', 'footers', 'quotes'),\n",
        "                            shuffle=True, random_state=42)\n",
        "\n",
        "print('size of training set: %s' % (len(mydata_train['data'])))\n",
        "print('size of validation set: %s' % (len(mydata_test['data'])))\n",
        "print('classes: %s' % (mydata_train.target_names))"
      ],
      "execution_count": null,
      "outputs": [
        {
          "output_type": "stream",
          "text": [
            "Downloading 20news dataset. This may take a few minutes.\n",
            "Downloading dataset from https://ndownloader.figshare.com/files/5975967 (14 MB)\n"
          ],
          "name": "stderr"
        },
        {
          "output_type": "stream",
          "text": [
            "size of training set: 11314\n",
            "size of validation set: 7532\n",
            "classes: ['alt.atheism', 'comp.graphics', 'comp.os.ms-windows.misc', 'comp.sys.ibm.pc.hardware', 'comp.sys.mac.hardware', 'comp.windows.x', 'misc.forsale', 'rec.autos', 'rec.motorcycles', 'rec.sport.baseball', 'rec.sport.hockey', 'sci.crypt', 'sci.electronics', 'sci.med', 'sci.space', 'soc.religion.christian', 'talk.politics.guns', 'talk.politics.mideast', 'talk.politics.misc', 'talk.religion.misc']\n"
          ],
          "name": "stdout"
        }
      ]
    },
    {
      "cell_type": "code",
      "metadata": {
        "id": "JOx_TXyRHOQi"
      },
      "source": [
        "import ktrain\n",
        "from ktrain import text"
      ],
      "execution_count": null,
      "outputs": []
    },
    {
      "cell_type": "code",
      "metadata": {
        "id": "UyrZKUVFHHDT"
      },
      "source": [
        "x_train = mydata_train.data\n",
        "y_train = mydata_train.target\n",
        "x_test = mydata_test.data\n",
        "y_test = mydata_test.target"
      ],
      "execution_count": null,
      "outputs": []
    },
    {
      "cell_type": "code",
      "metadata": {
        "id": "npmqJmsoGtdm",
        "colab": {
          "base_uri": "https://localhost:8080/",
          "height": 385,
          "referenced_widgets": [
            "88e51f30595045b3b719bccd378b286e",
            "bc68fd3db35d42baaa1f8c28899d571d",
            "d5e3e27b95eb46c68ea25ae0073e95ff",
            "d85c4ac2c20d43f7b6fbe8a800012199",
            "795cba95866a4703a36857f96931c321",
            "b400ae517afb464fb81bfaf2ae96c3e3",
            "0a74b59840c04543935bb834abf3a105",
            "f05b8b1441f545a0801c0fce2a93f07d",
            "fde831de8e114222a12a1a18e2e6dbb2",
            "fa3c73730a334faca4baecf77b526ef3",
            "3e119024dac74ba98b9059e5b833aa67",
            "d5cc6635d5b248cfbb5cf850021c8d71",
            "7935781433884754aef7cfe564a38886",
            "abe94cb3b714431c9818ef89618e65c1",
            "5b865a9c34824a50a54e9601b2b8b581",
            "2f9d908114404b4b8f76f58423817e71",
            "d88e8599533e47c59d1285b95524ac7a",
            "1fd1bc1841404de39f6e8d258900d656",
            "320f2a60279249a1890ce4d56e03e234",
            "8a0e8687a6ab46e29103260ce3158139",
            "b881efe9523d404facbab7c5d5be0e26",
            "c5be60bae6c24af09563bf247d55fff7",
            "0e33dbd438004242b5ba0bc00a01029c",
            "7b740ce4d4664e4a9bd2bdf39c1aa014"
          ]
        },
        "outputId": "ea2a1758-6778-4473-ac50-7afd67d8d905"
      },
      "source": [
        "MODEL_NAME = 'distilbert-base-uncased'\n",
        "t = text.Transformer(MODEL_NAME, maxlen=500, class_names=mydata_train.target_names)\n",
        "trn = t.preprocess_train(x_train, y_train)\n",
        "val = t.preprocess_test(x_test, y_test)\n",
        "model = t.get_classifier()\n",
        "learner = ktrain.get_learner(model, train_data=trn, val_data=val, batch_size=6)"
      ],
      "execution_count": null,
      "outputs": [
        {
          "output_type": "display_data",
          "data": {
            "application/vnd.jupyter.widget-view+json": {
              "model_id": "88e51f30595045b3b719bccd378b286e",
              "version_minor": 0,
              "version_major": 2
            },
            "text/plain": [
              "HBox(children=(FloatProgress(value=0.0, description='Downloading', max=442.0, style=ProgressStyle(description_…"
            ]
          },
          "metadata": {
            "tags": []
          }
        },
        {
          "output_type": "stream",
          "text": [
            "\n",
            "preprocessing train...\n",
            "language: en\n",
            "train sequence lengths:\n",
            "\tmean : 186\n",
            "\t95percentile : 572\n",
            "\t99percentile : 1789\n"
          ],
          "name": "stdout"
        },
        {
          "output_type": "display_data",
          "data": {
            "application/vnd.jupyter.widget-view+json": {
              "model_id": "fde831de8e114222a12a1a18e2e6dbb2",
              "version_minor": 0,
              "version_major": 2
            },
            "text/plain": [
              "HBox(children=(FloatProgress(value=0.0, description='Downloading', max=231508.0, style=ProgressStyle(descripti…"
            ]
          },
          "metadata": {
            "tags": []
          }
        },
        {
          "output_type": "stream",
          "text": [
            "\n"
          ],
          "name": "stdout"
        },
        {
          "output_type": "display_data",
          "data": {
            "text/html": [
              ""
            ],
            "text/plain": [
              "<IPython.core.display.HTML object>"
            ]
          },
          "metadata": {
            "tags": []
          }
        },
        {
          "output_type": "stream",
          "text": [
            "Is Multi-Label? False\n",
            "preprocessing test...\n",
            "language: en\n",
            "test sequence lengths:\n",
            "\tmean : 175\n",
            "\t95percentile : 543\n",
            "\t99percentile : 1658\n"
          ],
          "name": "stdout"
        },
        {
          "output_type": "display_data",
          "data": {
            "text/html": [
              ""
            ],
            "text/plain": [
              "<IPython.core.display.HTML object>"
            ]
          },
          "metadata": {
            "tags": []
          }
        },
        {
          "output_type": "display_data",
          "data": {
            "application/vnd.jupyter.widget-view+json": {
              "model_id": "d88e8599533e47c59d1285b95524ac7a",
              "version_minor": 0,
              "version_major": 2
            },
            "text/plain": [
              "HBox(children=(FloatProgress(value=0.0, description='Downloading', max=363423424.0, style=ProgressStyle(descri…"
            ]
          },
          "metadata": {
            "tags": []
          }
        },
        {
          "output_type": "stream",
          "text": [
            "\n"
          ],
          "name": "stdout"
        }
      ]
    },
    {
      "cell_type": "code",
      "metadata": {
        "id": "xcW7xkIImDH1",
        "colab": {
          "base_uri": "https://localhost:8080/",
          "height": 105
        },
        "outputId": "a088d1af-6535-4278-dcc6-bdb1a8aa166b"
      },
      "source": [
        "x_train[1:5]"
      ],
      "execution_count": null,
      "outputs": [
        {
          "output_type": "execute_result",
          "data": {
            "text/plain": [
              "[\"A fair number of brave souls who upgraded their SI clock oscillator have\\nshared their experiences for this poll. Please send a brief message detailing\\nyour experiences with the procedure. Top speed attained, CPU rated speed,\\nadd on cards and adapters, heat sinks, hour of usage per day, floppy disk\\nfunctionality with 800 and 1.4 m floppies are especially requested.\\n\\nI will be summarizing in the next two days, so please add to the network\\nknowledge base if you have done the clock upgrade and haven't answered this\\npoll. Thanks.\",\n",
              " 'well folks, my mac plus finally gave up the ghost this weekend after\\nstarting life as a 512k way back in 1985.  sooo, i\\'m in the market for a\\nnew machine a bit sooner than i intended to be...\\n\\ni\\'m looking into picking up a powerbook 160 or maybe 180 and have a bunch\\nof questions that (hopefully) somebody can answer:\\n\\n* does anybody know any dirt on when the next round of powerbook\\nintroductions are expected?  i\\'d heard the 185c was supposed to make an\\nappearence \"this summer\" but haven\\'t heard anymore on it - and since i\\ndon\\'t have access to macleak, i was wondering if anybody out there had\\nmore info...\\n\\n* has anybody heard rumors about price drops to the powerbook line like the\\nones the duo\\'s just went through recently?\\n\\n* what\\'s the impression of the display on the 180?  i could probably swing\\na 180 if i got the 80Mb disk rather than the 120, but i don\\'t really have\\na feel for how much \"better\" the display is (yea, it looks great in the\\nstore, but is that all \"wow\" or is it really that good?).  could i solicit\\nsome opinions of people who use the 160 and 180 day-to-day on if its worth\\ntaking the disk size and money hit to get the active display?  (i realize\\nthis is a real subjective question, but i\\'ve only played around with the\\nmachines in a computer store breifly and figured the opinions of somebody\\nwho actually uses the machine daily might prove helpful).\\n\\n* how well does hellcats perform?  ;)\\n\\nthanks a bunch in advance for any info - if you could email, i\\'ll post a\\nsummary (news reading time is at a premium with finals just around the\\ncorner... :( )\\n--\\nTom Willis  \\\\  twillis@ecn.purdue.edu    \\\\    Purdue Electrical Engineering',\n",
              " \"\\nDo you have Weitek's address/phone number?  I'd like to get some information\\nabout this chip.\\n\",\n",
              " \"From article <C5owCB.n3p@world.std.com>, by tombaker@world.std.com (Tom A Baker):\\n\\n\\nMy understanding is that the 'expected errors' are basically\\nknown bugs in the warning system software - things are checked\\nthat don't have the right values in yet because they aren't\\nset till after launch, and suchlike. Rather than fix the code\\nand possibly introduce new bugs, they just tell the crew\\n'ok, if you see a warning no. 213 before liftoff, ignore it'.\"]"
            ]
          },
          "metadata": {
            "tags": []
          },
          "execution_count": 9
        }
      ]
    },
    {
      "cell_type": "code",
      "metadata": {
        "id": "OWK7EI3AwV0k",
        "colab": {
          "base_uri": "https://localhost:8080/",
          "height": 34
        },
        "outputId": "a0cad129-59ae-4c97-e955-40cb120b54ba"
      },
      "source": [
        "# there are 20 categories so the numbers here correspond to a certain newsgroup\n",
        "y_train[1:5]"
      ],
      "execution_count": null,
      "outputs": [
        {
          "output_type": "execute_result",
          "data": {
            "text/plain": [
              "array([ 4,  4,  1, 14])"
            ]
          },
          "metadata": {
            "tags": []
          },
          "execution_count": 10
        }
      ]
    },
    {
      "cell_type": "markdown",
      "metadata": {
        "id": "RxS2US4Vatoc"
      },
      "source": [
        "#STEP 2: Estimate a Good Learning Rate\n",
        "Learning rates between 2e-5 and 5e-5 tend to work well with transformer models based on papers from Google. However, we will run our learning-rate-finder for two epochs to estimate the LR on this particular dataset.\n",
        "\n",
        "As shown below, our results are consistent Google's findings."
      ]
    },
    {
      "cell_type": "code",
      "metadata": {
        "id": "Dxdt05hMayig",
        "colab": {
          "base_uri": "https://localhost:8080/",
          "height": 440
        },
        "outputId": "4e282104-10e2-4157-c451-6d201ae07816"
      },
      "source": [
        "learner.lr_find(show_plot=True, max_epochs=2)"
      ],
      "execution_count": null,
      "outputs": [
        {
          "output_type": "stream",
          "text": [
            "simulating training for different learning rates... this may take a few moments...\n",
            "Epoch 1/2\n",
            "1885/1885 [==============================] - 423s 224ms/step - loss: 2.3757 - accuracy: 0.3873\n",
            "Epoch 2/2\n",
            "1885/1885 [==============================] - 425s 225ms/step - loss: 3.6571 - accuracy: 0.0498\n",
            "\n",
            "\n",
            "done.\n",
            "Visually inspect loss plot and select learning rate associated with falling loss\n"
          ],
          "name": "stdout"
        },
        {
          "output_type": "display_data",
          "data": {
            "image/png": "[encoded data removed]",
            "text/plain": [
              "<Figure size 432x288 with 1 Axes>"
            ]
          },
          "metadata": {
            "tags": [],
            "needs_background": "light"
          }
        }
      ]
    },
    {
      "cell_type": "markdown",
      "metadata": {
        "id": "lt5vKTnNa1iT"
      },
      "source": [
        "#STEP 3: Training a Model"
      ]
    },
    {
      "cell_type": "markdown",
      "metadata": {
        "id": "5kq9_bffB-6s"
      },
      "source": [
        "\n",
        "The `learner.fit_onecycle` method employs a [1cycle learning rate policy](https://arxiv.org/pdf/1803.09820.pdf).  The\n",
        "\n"
      ]
    },
    {
      "cell_type": "code",
      "metadata": {
        "id": "Xhc9QeolxaLF",
        "colab": {
          "base_uri": "https://localhost:8080/",
          "height": 221
        },
        "outputId": "aad264a4-4712-41eb-a2f8-aca9df0ad3fe"
      },
      "source": [
        "learner.fit_onecycle(10e-5, 4)"
      ],
      "execution_count": null,
      "outputs": [
        {
          "output_type": "stream",
          "text": [
            "\n",
            "\n",
            "begin training using onecycle policy with max lr of 0.0001...\n",
            "Epoch 1/4\n",
            "1886/1886 [==============================] - 498s 264ms/step - loss: 0.1358 - accuracy: 0.9607 - val_loss: 1.6690 - val_accuracy: 0.6706\n",
            "Epoch 2/4\n",
            "1886/1886 [==============================] - 500s 265ms/step - loss: 0.2911 - accuracy: 0.9167 - val_loss: 1.5296 - val_accuracy: 0.6719\n",
            "Epoch 3/4\n",
            "1886/1886 [==============================] - 499s 265ms/step - loss: 0.2271 - accuracy: 0.9334 - val_loss: 1.6297 - val_accuracy: 0.6893\n",
            "Epoch 4/4\n",
            "1886/1886 [==============================] - 497s 264ms/step - loss: 0.1185 - accuracy: 0.9649 - val_loss: 1.6261 - val_accuracy: 0.6993\n"
          ],
          "name": "stdout"
        },
        {
          "output_type": "execute_result",
          "data": {
            "text/plain": [
              "<tensorflow.python.keras.callbacks.History at 0x7feb526ff8d0>"
            ]
          },
          "metadata": {
            "tags": []
          },
          "execution_count": 16
        }
      ]
    },
    {
      "cell_type": "markdown",
      "metadata": {
        "id": "iJCcBW0WMDDh"
      },
      "source": [
        "So we see here that the ultimate model has an accuracy of 70%."
      ]
    },
    {
      "cell_type": "code",
      "metadata": {
        "id": "tgxYuCe3vrcl",
        "colab": {
          "base_uri": "https://localhost:8080/",
          "height": 1000
        },
        "outputId": "36e98d10-99c9-490d-c7ab-8918672cd0b9"
      },
      "source": [
        "learner.validate(class_names=t.get_classes())"
      ],
      "execution_count": null,
      "outputs": [
        {
          "output_type": "stream",
          "text": [
            "                          precision    recall  f1-score   support\n",
            "\n",
            "             alt.atheism       0.51      0.50      0.51       319\n",
            "           comp.graphics       0.65      0.73      0.69       389\n",
            " comp.os.ms-windows.misc       0.72      0.54      0.62       394\n",
            "comp.sys.ibm.pc.hardware       0.63      0.67      0.65       392\n",
            "   comp.sys.mac.hardware       0.73      0.71      0.72       385\n",
            "          comp.windows.x       0.77      0.77      0.77       395\n",
            "            misc.forsale       0.81      0.83      0.82       390\n",
            "               rec.autos       0.54      0.76      0.63       396\n",
            "         rec.motorcycles       0.68      0.76      0.72       398\n",
            "      rec.sport.baseball       0.92      0.81      0.86       397\n",
            "        rec.sport.hockey       0.85      0.88      0.87       399\n",
            "               sci.crypt       0.81      0.71      0.76       396\n",
            "         sci.electronics       0.61      0.59      0.60       393\n",
            "                 sci.med       0.81      0.77      0.79       396\n",
            "               sci.space       0.76      0.78      0.77       394\n",
            "  soc.religion.christian       0.76      0.72      0.74       398\n",
            "      talk.politics.guns       0.58      0.63      0.60       364\n",
            "   talk.politics.mideast       0.83      0.81      0.82       376\n",
            "      talk.politics.misc       0.66      0.43      0.52       310\n",
            "      talk.religion.misc       0.32      0.37      0.34       251\n",
            "\n",
            "                accuracy                           0.70      7532\n",
            "               macro avg       0.70      0.69      0.69      7532\n",
            "            weighted avg       0.71      0.70      0.70      7532\n",
            "\n"
          ],
          "name": "stdout"
        },
        {
          "output_type": "execute_result",
          "data": {
            "text/plain": [
              "array([[160,   2,   0,   0,   0,   1,   1,  10,   8,   1,   6,   5,   0,\n",
              "          4,  11,  22,   8,   7,   7,  66],\n",
              "       [  0, 285,  10,   9,  10,  34,   5,   5,   3,   1,   1,   5,   6,\n",
              "          3,   7,   2,   0,   1,   1,   1],\n",
              "       [  6,  29, 213,  52,  14,  22,   2,  18,   5,   1,   2,   3,   9,\n",
              "          1,   9,   0,   1,   1,   3,   3],\n",
              "       [  0,  17,  21, 261,  31,  10,   8,   9,   4,   0,   0,   4,  23,\n",
              "          0,   1,   0,   0,   3,   0,   0],\n",
              "       [  0,   9,   7,  30, 272,   4,   8,  16,   3,   0,   1,   7,  20,\n",
              "          1,   3,   0,   0,   1,   2,   1],\n",
              "       [  0,  41,  19,   5,   6, 305,   2,   6,   1,   0,   1,   4,   4,\n",
              "          0,   1,   0,   0,   0,   0,   0],\n",
              "       [  1,   2,   2,  11,  10,   3, 325,  13,   7,   1,   2,   1,   7,\n",
              "          1,   1,   0,   0,   2,   1,   0],\n",
              "       [  5,   4,   2,   2,   5,   0,  12, 301,  31,   0,   3,   2,  13,\n",
              "          1,   4,   0,   4,   2,   4,   1],\n",
              "       [  4,   2,   4,   2,   1,   0,   4,  29, 304,   2,   8,   0,  12,\n",
              "          3,   5,   3,   5,   1,   3,   6],\n",
              "       [  4,   2,   4,   1,   1,   1,   5,  16,   5, 320,  13,   1,   1,\n",
              "          4,   2,   3,   2,   4,   5,   3],\n",
              "       [  3,   1,   0,   0,   0,   0,   0,  11,   7,  14, 351,   2,   1,\n",
              "          3,   4,   0,   0,   1,   0,   1],\n",
              "       [  5,   5,   2,   2,   5,   3,   4,  19,   5,   1,   6, 283,  18,\n",
              "          4,   3,   1,  15,   3,   7,   5],\n",
              "       [  1,  12,   7,  30,  15,   3,  13,  21,  14,   1,   1,  10, 230,\n",
              "         12,  14,   2,   2,   2,   1,   2],\n",
              "       [ 11,   5,   1,   3,   0,   1,   2,  16,  10,   0,   2,   1,  10,\n",
              "        304,   3,   3,   3,   6,   4,  11],\n",
              "       [  4,   9,   1,   0,   2,   3,   3,  18,  11,   1,   2,   1,   8,\n",
              "          7, 306,   1,   1,   2,   5,   9],\n",
              "       [ 28,   4,   0,   1,   0,   2,   1,  14,   3,   0,   0,   0,   0,\n",
              "          2,   1, 285,   1,   2,   1,  53],\n",
              "       [ 13,   5,   1,   1,   1,   0,   3,  14,   9,   1,   3,   8,   5,\n",
              "          8,   8,   3, 229,  13,  14,  25],\n",
              "       [ 16,   0,   0,   0,   0,   0,   1,   7,   4,   2,   3,   3,   0,\n",
              "          4,   3,   4,  13, 306,   8,   2],\n",
              "       [ 11,   1,   1,   0,   0,   1,   0,  11,   6,   0,   3,   5,   4,\n",
              "         12,  10,   4,  86,   9, 133,  13],\n",
              "       [ 39,   1,   1,   2,   1,   1,   2,   8,   5,   1,   3,   4,   4,\n",
              "          3,   8,  44,  24,   3,   3,  94]])"
            ]
          },
          "metadata": {
            "tags": []
          },
          "execution_count": 17
        }
      ]
    },
    {
      "cell_type": "markdown",
      "metadata": {
        "id": "3sml8ee6a_24"
      },
      "source": [
        "#STEP 4: Save the Model"
      ]
    },
    {
      "cell_type": "code",
      "metadata": {
        "id": "egHeWw-eyjOo",
        "colab": {
          "base_uri": "https://localhost:8080/",
          "height": 34
        },
        "outputId": "635c9b6d-d58a-4056-9705-87278b35ee02"
      },
      "source": [
        "from google.colab import drive\n",
        "drive.mount('/content/gdrive')"
      ],
      "execution_count": null,
      "outputs": [
        {
          "output_type": "stream",
          "text": [
            "Mounted at /content/gdrive\n"
          ],
          "name": "stdout"
        }
      ]
    },
    {
      "cell_type": "code",
      "metadata": {
        "id": "IwDrrFeiyk7k"
      },
      "source": [
        "bert_predictor = ktrain.get_predictor(learner.model, preproc=t)"
      ],
      "execution_count": null,
      "outputs": []
    },
    {
      "cell_type": "code",
      "metadata": {
        "id": "fEQtEyUfL4VD"
      },
      "source": [
        "bert_predictor.save('/content/gdrive/My Drive/Colab Notebooks/ML_Profit-Gain/DistilBERT_predictor')"
      ],
      "execution_count": null,
      "outputs": []
    },
    {
      "cell_type": "code",
      "metadata": {
        "id": "89TZxq-9yppN"
      },
      "source": [
        "# reload the predictor\n",
        "bert_predictor = ktrain.load_predictor('/content/gdrive/My Drive/Colab Notebooks/ML_Profit-Gain/DistilBERT_predictor')"
      ],
      "execution_count": null,
      "outputs": []
    }
  ]
}